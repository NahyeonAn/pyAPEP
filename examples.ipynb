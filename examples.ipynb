{
 "cells": [
  {
   "cell_type": "markdown",
   "metadata": {},
   "source": []
  },
  {
   "cell_type": "code",
   "execution_count": 6,
   "metadata": {},
   "outputs": [],
   "source": [
    "# pyAPEP package import\n",
    "import pyadserver.isofit as isofit\n",
    "import pyadserver.simide as simide\n",
    "\n",
    "# Data treatment package import\n",
    "import numpy as np\n",
    "import pandas as pd\n",
    "\n",
    "# Data visualization package import\n",
    "import matplotlib.pyplot as plt"
   ]
  },
  {
   "cell_type": "code",
   "execution_count": 7,
   "metadata": {},
   "outputs": [],
   "source": [
    "# Data import\n",
    "# adsorbent 1\n",
    "Data_zeo13 = pd.read_csv('Example1_Zeolite13X.csv')\n",
    "# adsorbent 2\n",
    "Data_ac = pd.read_csv('Example1_ActivatedC.csv')\n",
    "# adsorbent 3\n",
    "Data_zeo5 = pd.read_csv('Example1_Zeolite5A.csv')\n",
    "\n",
    "Data = [Data_zeo13, Data_ac, Data_zeo5]"
   ]
  },
  {
   "cell_type": "code",
   "execution_count": 19,
   "metadata": {},
   "outputs": [],
   "source": [
    "# Find best isotherm function\n",
    "Adsorbent = ['Zeolite13X','Activated Carbon', 'Zeolite5A']\n",
    "pure_isotherm = []\n",
    "\n",
    "for i in range(3):\n",
    "    global N2_isotherm, H2_isotherm\n",
    "    ads = Data[i]\n",
    "    \n",
    "    P_N2 = ads['Pressure_N2 (bar)'].dropna().values\n",
    "    q_N2 = ads['Uptake_N2 (mol/kg)'].dropna().values\n",
    "\n",
    "    P_H2 = ads['Pressure_H2 (bar)'].dropna().values\n",
    "    q_H2 = ads['Uptake_H2 (mol/kg)'].dropna().values\n",
    "    \n",
    "    N2_isotherm, par_N2, fn_type_N2, val_err_N2 = isofit.best_isomodel(P_N2, q_N2)\n",
    "    H2_isotherm, par_H2, fn_type_H2, val_err_H2 = isofit.best_isomodel(P_H2, q_H2)\n",
    "    pure_isotherm.append([N2_isotherm,H2_isotherm])\n",
    "\n",
    "    # plt.figure(dpi=70)\n",
    "    # plt.scatter(P_N2, q_N2, color = 'r')\n",
    "    # plt.scatter(P_H2, q_H2, color = 'b')\n",
    "    \n",
    "    # P_max= max(max(P_N2), max(P_H2))\n",
    "    # P_dom = np.linspace(0, P_max, 100)\n",
    "    # plt.plot(P_dom, pure_isotherm[i][0](P_dom), color='r' )\n",
    "    # plt.plot(P_dom, pure_isotherm[i][1](P_dom), color='b' )\n",
    "    \n",
    "    # plt.xlabel('Pressure (bar)')\n",
    "    # plt.ylabel('Uptake (mol/kg)')\n",
    "    # plt.title(f'{Adsorbent[i]}')\n",
    "    # plt.legend(['$N_2$ data', '$H_2$ data',\n",
    "    #             '$N_2$ isotherm','$H_2$ isotherm'], loc='best')\n",
    "    \n",
    "    # plt.show()"
   ]
  },
  {
   "cell_type": "code",
   "execution_count": 33,
   "metadata": {},
   "outputs": [
    {
     "name": "stdout",
     "output_type": "stream",
     "text": [
      "[<function best_isomodel.<locals>.<lambda> at 0x000002372AD45790>, <function best_isomodel.<locals>.<lambda> at 0x000002372AD443A0>]\n",
      "[<function best_isomodel.<locals>.<lambda> at 0x000002372AD44EE0>, <function best_isomodel.<locals>.<lambda> at 0x000002372AD440D0>]\n",
      "[<function best_isomodel.<locals>.<lambda> at 0x000002372AD56940>, <function best_isomodel.<locals>.<lambda> at 0x000002372AD56CA0>]\n"
     ]
    }
   ],
   "source": [
    "# Develop mixture isotherm\n",
    "mix_isothrm = []\n",
    "for i in range(3):\n",
    "    print(pure_isotherm[i])\n",
    "    iso_mix = lambda P,T : isofit.IAST(pure_isotherm[i], P, T)\n",
    "    mix_isothrm.append(iso_mix)"
   ]
  },
  {
   "cell_type": "code",
   "execution_count": 38,
   "metadata": {},
   "outputs": [
    {
     "ename": "TypeError",
     "evalue": "<lambda>() takes 1 positional argument but 2 were given",
     "output_type": "error",
     "traceback": [
      "\u001b[1;31m---------------------------------------------------------------------------\u001b[0m",
      "\u001b[1;31mTypeError\u001b[0m                                 Traceback (most recent call last)",
      "\u001b[1;32mc:\\Users\\Yongho\\Documents\\GitHub\\pyAPEP\\examples.ipynb 셀 6\u001b[0m in \u001b[0;36m<cell line: 2>\u001b[1;34m()\u001b[0m\n\u001b[0;32m      <a href='vscode-notebook-cell:/c%3A/Users/Yongho/Documents/GitHub/pyAPEP/examples.ipynb#X20sZmlsZQ%3D%3D?line=0'>1</a>\u001b[0m f \u001b[39m=\u001b[39m mix_isothrm[\u001b[39m0\u001b[39m]\n\u001b[1;32m----> <a href='vscode-notebook-cell:/c%3A/Users/Yongho/Documents/GitHub/pyAPEP/examples.ipynb#X20sZmlsZQ%3D%3D?line=1'>2</a>\u001b[0m f([\u001b[39m6\u001b[39;49m, \u001b[39m2\u001b[39;49m], \u001b[39m313\u001b[39;49m)\n",
      "\u001b[1;32mc:\\Users\\Yongho\\Documents\\GitHub\\pyAPEP\\examples.ipynb 셀 6\u001b[0m in \u001b[0;36m<lambda>\u001b[1;34m(P, T)\u001b[0m\n\u001b[0;32m      <a href='vscode-notebook-cell:/c%3A/Users/Yongho/Documents/GitHub/pyAPEP/examples.ipynb#X20sZmlsZQ%3D%3D?line=2'>3</a>\u001b[0m \u001b[39mfor\u001b[39;00m i \u001b[39min\u001b[39;00m \u001b[39mrange\u001b[39m(\u001b[39m3\u001b[39m):\n\u001b[0;32m      <a href='vscode-notebook-cell:/c%3A/Users/Yongho/Documents/GitHub/pyAPEP/examples.ipynb#X20sZmlsZQ%3D%3D?line=3'>4</a>\u001b[0m     \u001b[39mprint\u001b[39m(pure_isotherm[i])\n\u001b[1;32m----> <a href='vscode-notebook-cell:/c%3A/Users/Yongho/Documents/GitHub/pyAPEP/examples.ipynb#X20sZmlsZQ%3D%3D?line=4'>5</a>\u001b[0m     iso_mix \u001b[39m=\u001b[39m \u001b[39mlambda\u001b[39;00m P,T : isofit\u001b[39m.\u001b[39;49mIAST(pure_isotherm[i], P, T)\n\u001b[0;32m      <a href='vscode-notebook-cell:/c%3A/Users/Yongho/Documents/GitHub/pyAPEP/examples.ipynb#X20sZmlsZQ%3D%3D?line=5'>6</a>\u001b[0m     mix_isothrm\u001b[39m.\u001b[39mappend(iso_mix)\n",
      "File \u001b[1;32mc:\\Users\\Yongho\\AppData\\Local\\Programs\\Python\\Python38\\lib\\site-packages\\pyadserver\\isofit.py:473\u001b[0m, in \u001b[0;36mIAST\u001b[1;34m(isotherm_list, P_i, T)\u001b[0m\n\u001b[0;32m    471\u001b[0m \u001b[39mfor\u001b[39;00m iso, pp \u001b[39min\u001b[39;00m \u001b[39mzip\u001b[39m(isotherm_list, P_i):\n\u001b[0;32m    472\u001b[0m     P_ran \u001b[39m=\u001b[39m np\u001b[39m.\u001b[39mlinspace(\u001b[39m0.0001\u001b[39m, pp, \u001b[39m101\u001b[39m)\n\u001b[1;32m--> 473\u001b[0m     q_P \u001b[39m=\u001b[39m iso(P_ran, T)\u001b[39m/\u001b[39mP_ran\n\u001b[0;32m    474\u001b[0m     piA_RT_tmp \u001b[39m=\u001b[39m trapz(q_P, P_ran)\n\u001b[0;32m    475\u001b[0m     piA_RT_list\u001b[39m.\u001b[39mappend(piA_RT_tmp)\n",
      "\u001b[1;31mTypeError\u001b[0m: <lambda>() takes 1 positional argument but 2 were given"
     ]
    }
   ],
   "source": [
    "f = mix_isothrm[0]\n",
    "f([6, 2], 313)"
   ]
  },
  {
   "cell_type": "code",
   "execution_count": 17,
   "metadata": {},
   "outputs": [
    {
     "ename": "TypeError",
     "evalue": "<lambda>() takes 1 positional argument but 2 were given",
     "output_type": "error",
     "traceback": [
      "\u001b[1;31m---------------------------------------------------------------------------\u001b[0m",
      "\u001b[1;31mTypeError\u001b[0m                                 Traceback (most recent call last)",
      "\u001b[1;32mc:\\Users\\Yongho\\Documents\\GitHub\\pyAPEP\\examples.ipynb 셀 8\u001b[0m in \u001b[0;36m<cell line: 3>\u001b[1;34m()\u001b[0m\n\u001b[0;32m      <a href='vscode-notebook-cell:/c%3A/Users/Yongho/Documents/GitHub/pyAPEP/examples.ipynb#X12sZmlsZQ%3D%3D?line=0'>1</a>\u001b[0m P_feed \u001b[39m=\u001b[39m \u001b[39m8\u001b[39m      \u001b[39m# Feed presure (bar)\u001b[39;00m\n\u001b[0;32m      <a href='vscode-notebook-cell:/c%3A/Users/Yongho/Documents/GitHub/pyAPEP/examples.ipynb#X12sZmlsZQ%3D%3D?line=1'>2</a>\u001b[0m T_feed \u001b[39m=\u001b[39m \u001b[39m293.15\u001b[39m    \u001b[39m# Feed temperature (K)\u001b[39;00m\n\u001b[1;32m----> <a href='vscode-notebook-cell:/c%3A/Users/Yongho/Documents/GitHub/pyAPEP/examples.ipynb#X12sZmlsZQ%3D%3D?line=2'>3</a>\u001b[0m mix_isothrm[\u001b[39m0\u001b[39;49m]([\u001b[39m6\u001b[39;49m,\u001b[39m2\u001b[39;49m], T_feed)\n",
      "\u001b[1;32mc:\\Users\\Yongho\\Documents\\GitHub\\pyAPEP\\examples.ipynb 셀 8\u001b[0m in \u001b[0;36m<lambda>\u001b[1;34m(P, T)\u001b[0m\n\u001b[0;32m      <a href='vscode-notebook-cell:/c%3A/Users/Yongho/Documents/GitHub/pyAPEP/examples.ipynb#X12sZmlsZQ%3D%3D?line=1'>2</a>\u001b[0m mix_isothrm \u001b[39m=\u001b[39m []\n\u001b[0;32m      <a href='vscode-notebook-cell:/c%3A/Users/Yongho/Documents/GitHub/pyAPEP/examples.ipynb#X12sZmlsZQ%3D%3D?line=2'>3</a>\u001b[0m \u001b[39mfor\u001b[39;00m i \u001b[39min\u001b[39;00m \u001b[39mrange\u001b[39m(\u001b[39m3\u001b[39m):\n\u001b[1;32m----> <a href='vscode-notebook-cell:/c%3A/Users/Yongho/Documents/GitHub/pyAPEP/examples.ipynb#X12sZmlsZQ%3D%3D?line=3'>4</a>\u001b[0m     iso_mix \u001b[39m=\u001b[39m \u001b[39mlambda\u001b[39;00m P,T : isofit\u001b[39m.\u001b[39;49mIAST(pure_isotherm[i], P, T)\n\u001b[0;32m      <a href='vscode-notebook-cell:/c%3A/Users/Yongho/Documents/GitHub/pyAPEP/examples.ipynb#X12sZmlsZQ%3D%3D?line=4'>5</a>\u001b[0m     mix_isothrm\u001b[39m.\u001b[39mappend(iso_mix)\n",
      "File \u001b[1;32mc:\\Users\\Yongho\\AppData\\Local\\Programs\\Python\\Python38\\lib\\site-packages\\pyadserver\\isofit.py:473\u001b[0m, in \u001b[0;36mIAST\u001b[1;34m(isotherm_list, P_i, T)\u001b[0m\n\u001b[0;32m    471\u001b[0m \u001b[39mfor\u001b[39;00m iso, pp \u001b[39min\u001b[39;00m \u001b[39mzip\u001b[39m(isotherm_list, P_i):\n\u001b[0;32m    472\u001b[0m     P_ran \u001b[39m=\u001b[39m np\u001b[39m.\u001b[39mlinspace(\u001b[39m0.0001\u001b[39m, pp, \u001b[39m101\u001b[39m)\n\u001b[1;32m--> 473\u001b[0m     q_P \u001b[39m=\u001b[39m iso(P_ran, T)\u001b[39m/\u001b[39mP_ran\n\u001b[0;32m    474\u001b[0m     piA_RT_tmp \u001b[39m=\u001b[39m trapz(q_P, P_ran)\n\u001b[0;32m    475\u001b[0m     piA_RT_list\u001b[39m.\u001b[39mappend(piA_RT_tmp)\n",
      "\u001b[1;31mTypeError\u001b[0m: <lambda>() takes 1 positional argument but 2 were given"
     ]
    }
   ],
   "source": [
    "P_feed = 8      # Feed presure (bar)\n",
    "T_feed = 293.15    # Feed temperature (K)\n",
    "mix_isothrm[0]([6,2], T_feed)"
   ]
  },
  {
   "cell_type": "code",
   "execution_count": 32,
   "metadata": {},
   "outputs": [
    {
     "name": "stdout",
     "output_type": "stream",
     "text": [
      "[<function best_isomodel.<locals>.<lambda> at 0x000002372AD45790>, <function best_isomodel.<locals>.<lambda> at 0x000002372AD443A0>]\n",
      "ERROR: the input should be in the form of \"isotherm_fun(P, T)\" \n"
     ]
    },
    {
     "ename": "AttributeError",
     "evalue": "'IdealColumn' object has no attribute '_n_comp'",
     "output_type": "error",
     "traceback": [
      "\u001b[1;31m---------------------------------------------------------------------------\u001b[0m",
      "\u001b[1;31mAttributeError\u001b[0m                            Traceback (most recent call last)",
      "\u001b[1;32mc:\\Users\\Yongho\\Documents\\GitHub\\pyAPEP\\examples.ipynb 셀 11\u001b[0m in \u001b[0;36m<cell line: 3>\u001b[1;34m()\u001b[0m\n\u001b[0;32m      <a href='vscode-notebook-cell:/c%3A/Users/Yongho/Documents/GitHub/pyAPEP/examples.ipynb#W5sZmlsZQ%3D%3D?line=8'>9</a>\u001b[0m T_feed \u001b[39m=\u001b[39m \u001b[39m293.15\u001b[39m    \u001b[39m# Feed temperature (K)\u001b[39;00m\n\u001b[0;32m     <a href='vscode-notebook-cell:/c%3A/Users/Yongho/Documents/GitHub/pyAPEP/examples.ipynb#W5sZmlsZQ%3D%3D?line=9'>10</a>\u001b[0m y_feed \u001b[39m=\u001b[39m [\u001b[39m1\u001b[39m\u001b[39m/\u001b[39m\u001b[39m4\u001b[39m, \u001b[39m3\u001b[39m\u001b[39m/\u001b[39m\u001b[39m4\u001b[39m] \u001b[39m# Feed mole fraction (mol/mol)\u001b[39;00m\n\u001b[1;32m---> <a href='vscode-notebook-cell:/c%3A/Users/Yongho/Documents/GitHub/pyAPEP/examples.ipynb#W5sZmlsZQ%3D%3D?line=10'>11</a>\u001b[0m CI1\u001b[39m.\u001b[39;49mfeedcond(P_feed, T_feed, y_feed)\n\u001b[0;32m     <a href='vscode-notebook-cell:/c%3A/Users/Yongho/Documents/GitHub/pyAPEP/examples.ipynb#W5sZmlsZQ%3D%3D?line=12'>13</a>\u001b[0m \u001b[39m# Operating condition setting\u001b[39;00m\n\u001b[0;32m     <a href='vscode-notebook-cell:/c%3A/Users/Yongho/Documents/GitHub/pyAPEP/examples.ipynb#W5sZmlsZQ%3D%3D?line=13'>14</a>\u001b[0m P_high \u001b[39m=\u001b[39m \u001b[39m8\u001b[39m \u001b[39m# High pressure (bar)\u001b[39;00m\n",
      "File \u001b[1;32mc:\\Users\\Yongho\\AppData\\Local\\Programs\\Python\\Python38\\lib\\site-packages\\pyadserver\\simide.py:60\u001b[0m, in \u001b[0;36mIdealColumn.feedcond\u001b[1;34m(self, P_feed, T_feed, y_feed)\u001b[0m\n\u001b[0;32m     59\u001b[0m \u001b[39mdef\u001b[39;00m \u001b[39mfeedcond\u001b[39m(\u001b[39mself\u001b[39m, P_feed, T_feed, y_feed):\n\u001b[1;32m---> 60\u001b[0m     \u001b[39mif\u001b[39;00m \u001b[39mlen\u001b[39m(y_feed) \u001b[39m!=\u001b[39m \u001b[39mself\u001b[39;49m\u001b[39m.\u001b[39;49m_n_comp:\n\u001b[0;32m     61\u001b[0m         \u001b[39mprint\u001b[39m(\u001b[39m\"\u001b[39m\u001b[39mDim. of y_feed (feed composition)\u001b[39m\u001b[39m\"\u001b[39m )\n\u001b[0;32m     62\u001b[0m         \u001b[39mprint\u001b[39m(\u001b[39m\"\u001b[39m\u001b[39mshould be equal to n_comp\u001b[39m\u001b[39m\"\u001b[39m)\n",
      "\u001b[1;31mAttributeError\u001b[0m: 'IdealColumn' object has no attribute '_n_comp'"
     ]
    }
   ],
   "source": [
    "# Ideal PSA simulation\n",
    "results = []\n",
    "for i in range(3):\n",
    "    print(pure_isotherm[i])\n",
    "    CI1 = simide.IdealColumn(2, pure_isotherm[i] )\n",
    "\n",
    "    # Feed condition setting\n",
    "    P_feed = 8      # Feed presure (bar)\n",
    "    T_feed = 293.15    # Feed temperature (K)\n",
    "    y_feed = [1/4, 3/4] # Feed mole fraction (mol/mol)\n",
    "    CI1.feedcond(P_feed, T_feed, y_feed)\n",
    "\n",
    "    # Operating condition setting\n",
    "    P_high = 8 # High pressure (bar)\n",
    "    P_low  = 1 # Low pressure (bar)\n",
    "    CI1.opercond(P_high, P_low)\n",
    "\n",
    "    # Simulation run\n",
    "    x_tail = CI1.runideal()\n",
    "    print(x_tail)       # Output: [x_H2, x_N2]\n",
    "    results.append(x_tail)"
   ]
  },
  {
   "cell_type": "markdown",
   "metadata": {},
   "source": []
  },
  {
   "cell_type": "code",
   "execution_count": 20,
   "metadata": {},
   "outputs": [
    {
     "data": {
      "image/png": "[encoded data removed]",
      "text/plain": [
       "<Figure size 600x400 with 1 Axes>"
      ]
     },
     "metadata": {
      "needs_background": "light"
     },
     "output_type": "display_data"
    }
   ],
   "source": [
    "Adsorbent = ['Zeolite13X','ActivatedC', 'Zeolite5A']\n",
    "plt.figure(dpi=100)\n",
    "plt.bar(Adsorbent, [95, 97, 91], width=0.4)\n",
    "plt.ylim([80, 100])\n",
    "plt.ylabel('$H_2$ recovery (%)', fontsize=17)\n",
    "plt.yticks(fontsize=13)\n",
    "plt.xticks( fontsize=13)\n",
    "plt.show()"
   ]
  },
  {
   "cell_type": "code",
   "execution_count": null,
   "metadata": {},
   "outputs": [],
   "source": [
    "\n",
    "\n",
    "    \n",
    "\n",
    "# # Define nitrogen isotherm (Opt. 2)\n",
    "# # Data import\n",
    "# par_N2 = [2, 0.2, 0.0002]\n",
    "\n",
    "# par1 = [3, 0.1]\n",
    "# par2 = [2, 0.2, 0.0002]\n",
    "\n",
    "# def Lang(par, P, T):\n",
    "#     nume = par[0]*par[1]*P\n",
    "#     deno = 1 + par[1]*P\n",
    "#     q = nume/deno\n",
    "#     return q\n",
    "\n",
    "# def Quad(par, P, T):\n",
    "#     nume = par[0]*(par[1]*P + 2*par[2]*P**2)\n",
    "#     deno = 1 + par[1]*P + par[2]*P**2\n",
    "#     q = nume/deno\n",
    "#     return q\n",
    "\n",
    "# N2_isotherm = lambda P,T: Quad(par_N2, P, T)\n",
    "# H2_isotherm = lambda P,T: Lang(par1, P, T)"
   ]
  }
 ],
 "metadata": {
  "kernelspec": {
   "display_name": "Python 3.8.10 64-bit",
   "language": "python",
   "name": "python3"
  },
  "language_info": {
   "codemirror_mode": {
    "name": "ipython",
    "version": 3
   },
   "file_extension": ".py",
   "mimetype": "text/x-python",
   "name": "python",
   "nbconvert_exporter": "python",
   "pygments_lexer": "ipython3",
   "version": "3.8.10"
  },
  "orig_nbformat": 4,
  "vscode": {
   "interpreter": {
    "hash": "5c3523104aa55273f99c4b5d025d35dcbb5449d5931be794291001a991bf7011"
   }
  }
 },
 "nbformat": 4,
 "nbformat_minor": 2
}
