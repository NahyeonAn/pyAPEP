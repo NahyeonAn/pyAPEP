{
 "cells": [
  {
   "cell_type": "markdown",
   "metadata": {},
   "source": []
  },
  {
   "cell_type": "code",
   "execution_count": 1,
   "metadata": {},
   "outputs": [],
   "source": [
    "import pyadserver.isofit as isofit\n",
    "import pyadserver.simide as simide"
   ]
  },
  {
   "cell_type": "code",
   "execution_count": 10,
   "metadata": {},
   "outputs": [],
   "source": [
    "# Find hydrogen isotherm (Opt. 1)\n",
    "# Data import\n",
    "P = [2, 3, 4, 5]\n",
    "q = [1, 2, 3, 4]\n",
    "\n",
    "# Find best isotherm function\n",
    "H2_isotherm, par_H2, fn_type_H2, val_err_H2 = isofit.best_isomodel(P, q)\n",
    "\n",
    "# Define nitrogen isotherm (Opt. 2)\n",
    "# Data import\n",
    "par_N2 = [2, 0.2, 0.0002]\n",
    "\n",
    "par1 = [3, 0.1]\n",
    "par2 = [2, 0.2, 0.0002]\n",
    "\n",
    "def Lang(par, P, T):\n",
    "    nume = par[0]*par[1]*P\n",
    "    deno = 1 + par[1]*P\n",
    "    q = nume/deno\n",
    "    return q\n",
    "\n",
    "def Quad(par, P, T):\n",
    "    nume = par[0]*(par[1]*P + 2*par[2]*P**2)\n",
    "    deno = 1 + par[1]*P + par[2]*P**2\n",
    "    q = nume/deno\n",
    "    return q\n",
    "\n",
    "N2_isotherm = lambda P,T: Quad(par_N2, P, T)\n",
    "H2_isotherm = lambda P,T: Lang(par1, P, T)"
   ]
  },
  {
   "cell_type": "code",
   "execution_count": 11,
   "metadata": {},
   "outputs": [],
   "source": [
    "iso_list = [H2_isotherm, N2_isotherm]\n",
    "iso_mix = lambda P,T : isof.IAST(iso_list, P, T)"
   ]
  },
  {
   "cell_type": "code",
   "execution_count": 12,
   "metadata": {},
   "outputs": [
    {
     "name": "stdout",
     "output_type": "stream",
     "text": [
      "ERROR: the input should be in the form of \"isotherm_fun(P, T)\" \n"
     ]
    },
    {
     "ename": "AttributeError",
     "evalue": "'IdealColumn' object has no attribute '_n_comp'",
     "output_type": "error",
     "traceback": [
      "\u001b[1;31m---------------------------------------------------------------------------\u001b[0m",
      "\u001b[1;31mAttributeError\u001b[0m                            Traceback (most recent call last)",
      "\u001b[1;32mc:\\Users\\Yongho\\Documents\\GitHub\\pyAPEP\\examples.ipynb 셀 5\u001b[0m in \u001b[0;36m<cell line: 7>\u001b[1;34m()\u001b[0m\n\u001b[0;32m      <a href='vscode-notebook-cell:/c%3A/Users/Yongho/Documents/GitHub/pyAPEP/examples.ipynb#W6sZmlsZQ%3D%3D?line=4'>5</a>\u001b[0m T_feed \u001b[39m=\u001b[39m \u001b[39m313.15\u001b[39m    \u001b[39m# Feed temperature (K)\u001b[39;00m\n\u001b[0;32m      <a href='vscode-notebook-cell:/c%3A/Users/Yongho/Documents/GitHub/pyAPEP/examples.ipynb#W6sZmlsZQ%3D%3D?line=5'>6</a>\u001b[0m y_feed \u001b[39m=\u001b[39m [\u001b[39m3\u001b[39m\u001b[39m/\u001b[39m\u001b[39m4\u001b[39m, \u001b[39m1\u001b[39m\u001b[39m/\u001b[39m\u001b[39m4\u001b[39m] \u001b[39m# Feed mole fraction (mol/mol)\u001b[39;00m\n\u001b[1;32m----> <a href='vscode-notebook-cell:/c%3A/Users/Yongho/Documents/GitHub/pyAPEP/examples.ipynb#W6sZmlsZQ%3D%3D?line=6'>7</a>\u001b[0m CI1\u001b[39m.\u001b[39;49mfeedcond(P_feed, T_feed, y_feed)\n\u001b[0;32m      <a href='vscode-notebook-cell:/c%3A/Users/Yongho/Documents/GitHub/pyAPEP/examples.ipynb#W6sZmlsZQ%3D%3D?line=8'>9</a>\u001b[0m \u001b[39m# Operating condition setting\u001b[39;00m\n\u001b[0;32m     <a href='vscode-notebook-cell:/c%3A/Users/Yongho/Documents/GitHub/pyAPEP/examples.ipynb#W6sZmlsZQ%3D%3D?line=9'>10</a>\u001b[0m P_high \u001b[39m=\u001b[39m \u001b[39m8\u001b[39m \u001b[39m# High pressure (bar)\u001b[39;00m\n",
      "File \u001b[1;32mc:\\Users\\Yongho\\AppData\\Local\\Programs\\Python\\Python38\\lib\\site-packages\\pyadserver\\simide.py:60\u001b[0m, in \u001b[0;36mIdealColumn.feedcond\u001b[1;34m(self, P_feed, T_feed, y_feed)\u001b[0m\n\u001b[0;32m     59\u001b[0m \u001b[39mdef\u001b[39;00m \u001b[39mfeedcond\u001b[39m(\u001b[39mself\u001b[39m, P_feed, T_feed, y_feed):\n\u001b[1;32m---> 60\u001b[0m     \u001b[39mif\u001b[39;00m \u001b[39mlen\u001b[39m(y_feed) \u001b[39m!=\u001b[39m \u001b[39mself\u001b[39;49m\u001b[39m.\u001b[39;49m_n_comp:\n\u001b[0;32m     61\u001b[0m         \u001b[39mprint\u001b[39m(\u001b[39m\"\u001b[39m\u001b[39mDim. of y_feed (feed composition)\u001b[39m\u001b[39m\"\u001b[39m )\n\u001b[0;32m     62\u001b[0m         \u001b[39mprint\u001b[39m(\u001b[39m\"\u001b[39m\u001b[39mshould be equal to n_comp\u001b[39m\u001b[39m\"\u001b[39m)\n",
      "\u001b[1;31mAttributeError\u001b[0m: 'IdealColumn' object has no attribute '_n_comp'"
     ]
    }
   ],
   "source": [
    "CI1 = simide.IdealColumn(2, iso_mix, )\n",
    "\n",
    "# Feed condition setting\n",
    "P_feed = 8      # Feed presure (bar)\n",
    "T_feed = 313.15    # Feed temperature (K)\n",
    "y_feed = [3/4, 1/4] # Feed mole fraction (mol/mol)\n",
    "CI1.feedcond(P_feed, T_feed, y_feed)\n",
    "\n",
    "# Operating condition setting\n",
    "P_high = 8 # High pressure (bar)\n",
    "P_low  = 1 # Low pressure (bar)\n",
    "CI1.opercond(P_high, P_low)\n",
    "\n",
    "# Simulation run\n",
    "x_tail = CI1.runideal()\n",
    "print(x_tail)       # Output: [x_H2, x_N2]"
   ]
  },
  {
   "cell_type": "markdown",
   "metadata": {},
   "source": []
  }
 ],
 "metadata": {
  "kernelspec": {
   "display_name": "Python 3.8.10 64-bit",
   "language": "python",
   "name": "python3"
  },
  "language_info": {
   "codemirror_mode": {
    "name": "ipython",
    "version": 3
   },
   "file_extension": ".py",
   "mimetype": "text/x-python",
   "name": "python",
   "nbconvert_exporter": "python",
   "pygments_lexer": "ipython3",
   "version": "3.8.10"
  },
  "orig_nbformat": 4,
  "vscode": {
   "interpreter": {
    "hash": "5c3523104aa55273f99c4b5d025d35dcbb5449d5931be794291001a991bf7011"
   }
  }
 },
 "nbformat": 4,
 "nbformat_minor": 2
}
