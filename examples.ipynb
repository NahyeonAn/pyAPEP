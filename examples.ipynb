{
 "cells": [
  {
   "cell_type": "code",
   "execution_count": 2,
   "metadata": {},
   "outputs": [],
   "source": [
    "import pyadserver.isofit as isofit\n",
    "\n"
   ]
  },
  {
   "cell_type": "code",
   "execution_count": 12,
   "metadata": {},
   "outputs": [],
   "source": [
    "P = [2, 3, 4, 5]\n",
    "q = [1, 2, 3, 4]\n",
    "\n",
    "best_isotherm1, parameters, fn_type, val_err = isofit.best_isomodel(P, q)\n",
    "\n",
    "P = [2, 3, 4, 5]\n",
    "q = [1, 5, 7, 10]\n",
    "\n",
    "best_isotherm2, parameters, fn_type, val_err = isofit.best_isomodel(P, q)\n",
    "\n",
    "iso_mix = lambda P,T : isof.IAST([best_isotherm1, best_isotherm2], P, T)"
   ]
  },
  {
   "cell_type": "code",
   "execution_count": 13,
   "metadata": {},
   "outputs": [
    {
     "data": {
      "text/plain": [
       "<function __main__.<lambda>(P, T)>"
      ]
     },
     "execution_count": 13,
     "metadata": {},
     "output_type": "execute_result"
    }
   ],
   "source": [
    "iso_mix"
   ]
  },
  {
   "cell_type": "code",
   "execution_count": null,
   "metadata": {},
   "outputs": [],
   "source": [
    "def iso1(P, T):\n",
    "    nume =1*0.05*P\n",
    "    deno = 1+0.05*P\n",
    "    q = nume/deno\n",
    "    return q\n",
    "\n",
    "def iso2(P,T):\n",
    "    nume = 2*0.1*P\n",
    "    deno = 1+0.1*P\n",
    "    q = nume/deno\n",
    "    return q\n",
    "\n",
    "iso_mix = lambda P,T : isof.IAST([iso1, iso2], P, T)"
   ]
  },
  {
   "cell_type": "markdown",
   "metadata": {},
   "source": []
  }
 ],
 "metadata": {
  "kernelspec": {
   "display_name": "Python 3.8.10 64-bit",
   "language": "python",
   "name": "python3"
  },
  "language_info": {
   "codemirror_mode": {
    "name": "ipython",
    "version": 3
   },
   "file_extension": ".py",
   "mimetype": "text/x-python",
   "name": "python",
   "nbconvert_exporter": "python",
   "pygments_lexer": "ipython3",
   "version": "3.8.10"
  },
  "orig_nbformat": 4,
  "vscode": {
   "interpreter": {
    "hash": "5c3523104aa55273f99c4b5d025d35dcbb5449d5931be794291001a991bf7011"
   }
  }
 },
 "nbformat": 4,
 "nbformat_minor": 2
}
